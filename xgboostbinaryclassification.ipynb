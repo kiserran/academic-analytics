{
  "cells": [
    {
      "cell_type": "markdown",
      "metadata": {
        "id": "view-in-github",
        "colab_type": "text"
      },
      "source": [
        "<a href=\"https://colab.research.google.com/github/kiserran/academic-analytics/blob/main/xgboostbinaryclassification.ipynb\" target=\"_parent\"><img src=\"https://colab.research.google.com/assets/colab-badge.svg\" alt=\"Open In Colab\"/></a>"
      ]
    },
    {
      "cell_type": "markdown",
      "metadata": {
        "id": "Vl6q8JNWxyov"
      },
      "source": [
        "###  Xgboost for binary classification\n",
        "### Data contains information about invoice payment, it indicates if the invoice was paid on time and if it was delayed — how long was the delay. Decision column is assigned with 0 if the invoice was paid on time or delay was small."
      ]
    },
    {
      "cell_type": "code",
      "execution_count": null,
      "metadata": {
        "id": "9Bk7fXcYxyox"
      },
      "outputs": [],
      "source": [
        "import pandas as pd\n",
        "from sklearn.model_selection import train_test_split\n",
        "import xgboost as xgb\n",
        "from sklearn.metrics import accuracy_score\n",
        "from matplotlib import pyplot\n",
        "\n",
        "import warnings\n",
        "warnings.filterwarnings('ignore')"
      ]
    },
    {
      "cell_type": "code",
      "execution_count": null,
      "metadata": {
        "id": "7Rhbs5lNxyoy",
        "outputId": "bc0aea1c-712f-4774-cf6b-2c76c989f163"
      },
      "outputs": [
        {
          "data": {
            "text/html": [
              "<div>\n",
              "<style scoped>\n",
              "    .dataframe tbody tr th:only-of-type {\n",
              "        vertical-align: middle;\n",
              "    }\n",
              "\n",
              "    .dataframe tbody tr th {\n",
              "        vertical-align: top;\n",
              "    }\n",
              "\n",
              "    .dataframe thead th {\n",
              "        text-align: right;\n",
              "    }\n",
              "</style>\n",
              "<table border=\"1\" class=\"dataframe\">\n",
              "  <thead>\n",
              "    <tr style=\"text-align: right;\">\n",
              "      <th></th>\n",
              "      <th>invoice_risk_decision</th>\n",
              "      <th>customer</th>\n",
              "      <th>payment_due_date</th>\n",
              "      <th>payment_date</th>\n",
              "      <th>grand_total</th>\n",
              "    </tr>\n",
              "  </thead>\n",
              "  <tbody>\n",
              "    <tr>\n",
              "      <td>0</td>\n",
              "      <td>0</td>\n",
              "      <td>id_24</td>\n",
              "      <td>2</td>\n",
              "      <td>2</td>\n",
              "      <td>64.25</td>\n",
              "    </tr>\n",
              "    <tr>\n",
              "      <td>1</td>\n",
              "      <td>0</td>\n",
              "      <td>id_11</td>\n",
              "      <td>3</td>\n",
              "      <td>3</td>\n",
              "      <td>50.34</td>\n",
              "    </tr>\n",
              "    <tr>\n",
              "      <td>2</td>\n",
              "      <td>0</td>\n",
              "      <td>id_29</td>\n",
              "      <td>4</td>\n",
              "      <td>4</td>\n",
              "      <td>40.03</td>\n",
              "    </tr>\n",
              "    <tr>\n",
              "      <td>3</td>\n",
              "      <td>0</td>\n",
              "      <td>id_28</td>\n",
              "      <td>4</td>\n",
              "      <td>2</td>\n",
              "      <td>94.86</td>\n",
              "    </tr>\n",
              "    <tr>\n",
              "      <td>4</td>\n",
              "      <td>1</td>\n",
              "      <td>id_13</td>\n",
              "      <td>2</td>\n",
              "      <td>8</td>\n",
              "      <td>65.15</td>\n",
              "    </tr>\n",
              "  </tbody>\n",
              "</table>\n",
              "</div>"
            ],
            "text/plain": [
              "   invoice_risk_decision customer  payment_due_date  payment_date  grand_total\n",
              "0                      0    id_24                 2             2        64.25\n",
              "1                      0    id_11                 3             3        50.34\n",
              "2                      0    id_29                 4             4        40.03\n",
              "3                      0    id_28                 4             2        94.86\n",
              "4                      1    id_13                 2             8        65.15"
            ]
          },
          "execution_count": 3,
          "metadata": {},
          "output_type": "execute_result"
        }
      ],
      "source": [
        "df = pd.read_csv('https://raw.githubusercontent.com/wangx346/MAS651/main/invoice2.csv')\n",
        "df.head()"
      ]
    },
    {
      "cell_type": "code",
      "execution_count": null,
      "metadata": {
        "id": "EM7QoFJuxyoy"
      },
      "outputs": [],
      "source": [
        "print('Number of rows in dataset:')\n",
        "print(df[df.columns[0]].value_counts())"
      ]
    },
    {
      "cell_type": "markdown",
      "metadata": {
        "id": "3D6-rNhbxyoz"
      },
      "source": [
        "##### XGBoost works with numerical (continuous) data. Categorical features must be translated to numeric representation. Pandas library provide get_dummies function which helps to encode categorical data into an array of (0,1). Here I will translate categorical feature customer_id"
      ]
    },
    {
      "cell_type": "code",
      "execution_count": null,
      "metadata": {
        "id": "DyhFyoboxyoz",
        "outputId": "485d1a38-63fb-4116-e8cd-694fe6c3ee17"
      },
      "outputs": [
        {
          "data": {
            "text/html": [
              "<div>\n",
              "<style scoped>\n",
              "    .dataframe tbody tr th:only-of-type {\n",
              "        vertical-align: middle;\n",
              "    }\n",
              "\n",
              "    .dataframe tbody tr th {\n",
              "        vertical-align: top;\n",
              "    }\n",
              "\n",
              "    .dataframe thead th {\n",
              "        text-align: right;\n",
              "    }\n",
              "</style>\n",
              "<table border=\"1\" class=\"dataframe\">\n",
              "  <thead>\n",
              "    <tr style=\"text-align: right;\">\n",
              "      <th></th>\n",
              "      <th>invoice_risk_decision</th>\n",
              "      <th>payment_due_date</th>\n",
              "      <th>payment_date</th>\n",
              "      <th>grand_total</th>\n",
              "      <th>customer_id_11</th>\n",
              "      <th>customer_id_12</th>\n",
              "      <th>customer_id_13</th>\n",
              "      <th>customer_id_14</th>\n",
              "      <th>customer_id_15</th>\n",
              "      <th>customer_id_18</th>\n",
              "      <th>...</th>\n",
              "      <th>customer_id_45</th>\n",
              "      <th>customer_id_46</th>\n",
              "      <th>customer_id_47</th>\n",
              "      <th>customer_id_48</th>\n",
              "      <th>customer_id_49</th>\n",
              "      <th>customer_id_50</th>\n",
              "      <th>customer_id_6</th>\n",
              "      <th>customer_id_7</th>\n",
              "      <th>customer_id_8</th>\n",
              "      <th>customer_id_9</th>\n",
              "    </tr>\n",
              "  </thead>\n",
              "  <tbody>\n",
              "    <tr>\n",
              "      <td>0</td>\n",
              "      <td>0</td>\n",
              "      <td>2</td>\n",
              "      <td>2</td>\n",
              "      <td>64.25</td>\n",
              "      <td>0</td>\n",
              "      <td>0</td>\n",
              "      <td>0</td>\n",
              "      <td>0</td>\n",
              "      <td>0</td>\n",
              "      <td>0</td>\n",
              "      <td>...</td>\n",
              "      <td>0</td>\n",
              "      <td>0</td>\n",
              "      <td>0</td>\n",
              "      <td>0</td>\n",
              "      <td>0</td>\n",
              "      <td>0</td>\n",
              "      <td>0</td>\n",
              "      <td>0</td>\n",
              "      <td>0</td>\n",
              "      <td>0</td>\n",
              "    </tr>\n",
              "    <tr>\n",
              "      <td>1</td>\n",
              "      <td>0</td>\n",
              "      <td>3</td>\n",
              "      <td>3</td>\n",
              "      <td>50.34</td>\n",
              "      <td>1</td>\n",
              "      <td>0</td>\n",
              "      <td>0</td>\n",
              "      <td>0</td>\n",
              "      <td>0</td>\n",
              "      <td>0</td>\n",
              "      <td>...</td>\n",
              "      <td>0</td>\n",
              "      <td>0</td>\n",
              "      <td>0</td>\n",
              "      <td>0</td>\n",
              "      <td>0</td>\n",
              "      <td>0</td>\n",
              "      <td>0</td>\n",
              "      <td>0</td>\n",
              "      <td>0</td>\n",
              "      <td>0</td>\n",
              "    </tr>\n",
              "    <tr>\n",
              "      <td>2</td>\n",
              "      <td>0</td>\n",
              "      <td>4</td>\n",
              "      <td>4</td>\n",
              "      <td>40.03</td>\n",
              "      <td>0</td>\n",
              "      <td>0</td>\n",
              "      <td>0</td>\n",
              "      <td>0</td>\n",
              "      <td>0</td>\n",
              "      <td>0</td>\n",
              "      <td>...</td>\n",
              "      <td>0</td>\n",
              "      <td>0</td>\n",
              "      <td>0</td>\n",
              "      <td>0</td>\n",
              "      <td>0</td>\n",
              "      <td>0</td>\n",
              "      <td>0</td>\n",
              "      <td>0</td>\n",
              "      <td>0</td>\n",
              "      <td>0</td>\n",
              "    </tr>\n",
              "    <tr>\n",
              "      <td>3</td>\n",
              "      <td>0</td>\n",
              "      <td>4</td>\n",
              "      <td>2</td>\n",
              "      <td>94.86</td>\n",
              "      <td>0</td>\n",
              "      <td>0</td>\n",
              "      <td>0</td>\n",
              "      <td>0</td>\n",
              "      <td>0</td>\n",
              "      <td>0</td>\n",
              "      <td>...</td>\n",
              "      <td>0</td>\n",
              "      <td>0</td>\n",
              "      <td>0</td>\n",
              "      <td>0</td>\n",
              "      <td>0</td>\n",
              "      <td>0</td>\n",
              "      <td>0</td>\n",
              "      <td>0</td>\n",
              "      <td>0</td>\n",
              "      <td>0</td>\n",
              "    </tr>\n",
              "    <tr>\n",
              "      <td>4</td>\n",
              "      <td>1</td>\n",
              "      <td>2</td>\n",
              "      <td>8</td>\n",
              "      <td>65.15</td>\n",
              "      <td>0</td>\n",
              "      <td>0</td>\n",
              "      <td>1</td>\n",
              "      <td>0</td>\n",
              "      <td>0</td>\n",
              "      <td>0</td>\n",
              "      <td>...</td>\n",
              "      <td>0</td>\n",
              "      <td>0</td>\n",
              "      <td>0</td>\n",
              "      <td>0</td>\n",
              "      <td>0</td>\n",
              "      <td>0</td>\n",
              "      <td>0</td>\n",
              "      <td>0</td>\n",
              "      <td>0</td>\n",
              "      <td>0</td>\n",
              "    </tr>\n",
              "  </tbody>\n",
              "</table>\n",
              "<p>5 rows × 44 columns</p>\n",
              "</div>"
            ],
            "text/plain": [
              "   invoice_risk_decision  payment_due_date  payment_date  grand_total  \\\n",
              "0                      0                 2             2        64.25   \n",
              "1                      0                 3             3        50.34   \n",
              "2                      0                 4             4        40.03   \n",
              "3                      0                 4             2        94.86   \n",
              "4                      1                 2             8        65.15   \n",
              "\n",
              "   customer_id_11  customer_id_12  customer_id_13  customer_id_14  \\\n",
              "0               0               0               0               0   \n",
              "1               1               0               0               0   \n",
              "2               0               0               0               0   \n",
              "3               0               0               0               0   \n",
              "4               0               0               1               0   \n",
              "\n",
              "   customer_id_15  customer_id_18  ...  customer_id_45  customer_id_46  \\\n",
              "0               0               0  ...               0               0   \n",
              "1               0               0  ...               0               0   \n",
              "2               0               0  ...               0               0   \n",
              "3               0               0  ...               0               0   \n",
              "4               0               0  ...               0               0   \n",
              "\n",
              "   customer_id_47  customer_id_48  customer_id_49  customer_id_50  \\\n",
              "0               0               0               0               0   \n",
              "1               0               0               0               0   \n",
              "2               0               0               0               0   \n",
              "3               0               0               0               0   \n",
              "4               0               0               0               0   \n",
              "\n",
              "   customer_id_6  customer_id_7  customer_id_8  customer_id_9  \n",
              "0              0              0              0              0  \n",
              "1              0              0              0              0  \n",
              "2              0              0              0              0  \n",
              "3              0              0              0              0  \n",
              "4              0              0              0              0  \n",
              "\n",
              "[5 rows x 44 columns]"
            ]
          },
          "execution_count": 6,
          "metadata": {},
          "output_type": "execute_result"
        }
      ],
      "source": [
        "# create dummy variables\n",
        "encoded_data = pd.get_dummies(df)\n",
        "encoded_data.head()"
      ]
    },
    {
      "cell_type": "code",
      "execution_count": null,
      "metadata": {
        "id": "E5JZ7boKxyoz"
      },
      "outputs": [],
      "source": [
        "# split data into X and y\n",
        "X = encoded_data.iloc[:, 1:44]\n",
        "Y = encoded_data.iloc[:, 0:1]"
      ]
    },
    {
      "cell_type": "code",
      "execution_count": null,
      "metadata": {
        "id": "tYLTqyW9xyo0",
        "outputId": "073724e8-bf5a-450f-e420-f7ba23795e6e"
      },
      "outputs": [
        {
          "name": "stdout",
          "output_type": "stream",
          "text": [
            "(275, 43) (31, 43)\n",
            "\n",
            "Number of rows in Train dataset:\n",
            "0    154\n",
            "1    121\n",
            "Name: invoice_risk_decision, dtype: int64\n",
            "\n",
            "Number of rows in Test dataset:\n",
            "0    17\n",
            "1    14\n",
            "Name: invoice_risk_decision, dtype: int64\n"
          ]
        }
      ],
      "source": [
        "## get a list of all the column names in a Pandas DataFrame:\n",
        "headers = list(X)\n",
        "\n",
        "\n",
        "## create training data sets and testing data sets\n",
        "train_x, test_x, train_Y, test_Y = train_test_split(X, Y, test_size=0.1, stratify=Y, random_state=0)\n",
        "\n",
        "print(train_x.shape, test_x.shape)\n",
        "print()\n",
        "print('Number of rows in Train dataset:')\n",
        "print(train_Y['invoice_risk_decision'].value_counts())\n",
        "print()\n",
        "print('Number of rows in Test dataset:')\n",
        "print(test_Y['invoice_risk_decision'].value_counts())"
      ]
    },
    {
      "cell_type": "markdown",
      "metadata": {
        "id": "uTxERVqjxyo0"
      },
      "source": [
        "#####  Using XGBoost feature of training self-evaluation and early stopping to avoid overfitting. Along with training data, passing test data too into ML model build function — model.fit. The function is assigned with 10 early stopping rounds. If there is no improvement in 10 rounds, training will stop and choose the most optimal model. Using logloss metric to evaluate training quality. Training is running with verbose=True flag to print detail output for each training iteration:"
      ]
    },
    {
      "cell_type": "code",
      "execution_count": null,
      "metadata": {
        "id": "75RmnEztxyo0",
        "outputId": "a4b41b5b-b2db-4ce0-8b72-2953d24cc95e"
      },
      "outputs": [
        {
          "name": "stdout",
          "output_type": "stream",
          "text": [
            "[0]\tvalidation_0-error:0.08727\tvalidation_0-logloss:0.63186\tvalidation_1-error:0.19355\tvalidation_1-logloss:0.64377\n",
            "[1]\tvalidation_0-error:0.08727\tvalidation_0-logloss:0.58163\tvalidation_1-error:0.19355\tvalidation_1-logloss:0.60726\n",
            "[2]\tvalidation_0-error:0.09091\tvalidation_0-logloss:0.53791\tvalidation_1-error:0.22581\tvalidation_1-logloss:0.57581\n",
            "[3]\tvalidation_0-error:0.09091\tvalidation_0-logloss:0.50050\tvalidation_1-error:0.22581\tvalidation_1-logloss:0.55041\n",
            "[4]\tvalidation_0-error:0.09091\tvalidation_0-logloss:0.46685\tvalidation_1-error:0.22581\tvalidation_1-logloss:0.52272\n",
            "[5]\tvalidation_0-error:0.09091\tvalidation_0-logloss:0.43845\tvalidation_1-error:0.22581\tvalidation_1-logloss:0.50777\n",
            "[6]\tvalidation_0-error:0.09091\tvalidation_0-logloss:0.41247\tvalidation_1-error:0.22581\tvalidation_1-logloss:0.48711\n",
            "[7]\tvalidation_0-error:0.09091\tvalidation_0-logloss:0.38838\tvalidation_1-error:0.22581\tvalidation_1-logloss:0.46815\n",
            "[8]\tvalidation_0-error:0.09091\tvalidation_0-logloss:0.36835\tvalidation_1-error:0.22581\tvalidation_1-logloss:0.45237\n",
            "[9]\tvalidation_0-error:0.09091\tvalidation_0-logloss:0.35047\tvalidation_1-error:0.22581\tvalidation_1-logloss:0.44714\n",
            "[10]\tvalidation_0-error:0.09091\tvalidation_0-logloss:0.33574\tvalidation_1-error:0.22581\tvalidation_1-logloss:0.43789\n",
            "[11]\tvalidation_0-error:0.08727\tvalidation_0-logloss:0.31980\tvalidation_1-error:0.19355\tvalidation_1-logloss:0.42302\n",
            "[12]\tvalidation_0-error:0.08727\tvalidation_0-logloss:0.30535\tvalidation_1-error:0.19355\tvalidation_1-logloss:0.41391\n",
            "[13]\tvalidation_0-error:0.08727\tvalidation_0-logloss:0.29338\tvalidation_1-error:0.19355\tvalidation_1-logloss:0.40946\n",
            "[14]\tvalidation_0-error:0.08000\tvalidation_0-logloss:0.28159\tvalidation_1-error:0.19355\tvalidation_1-logloss:0.40213\n",
            "[15]\tvalidation_0-error:0.08000\tvalidation_0-logloss:0.27257\tvalidation_1-error:0.19355\tvalidation_1-logloss:0.39593\n",
            "[16]\tvalidation_0-error:0.06909\tvalidation_0-logloss:0.26163\tvalidation_1-error:0.16129\tvalidation_1-logloss:0.38322\n",
            "[17]\tvalidation_0-error:0.06909\tvalidation_0-logloss:0.25379\tvalidation_1-error:0.16129\tvalidation_1-logloss:0.37926\n",
            "[18]\tvalidation_0-error:0.06182\tvalidation_0-logloss:0.24516\tvalidation_1-error:0.16129\tvalidation_1-logloss:0.37100\n",
            "[19]\tvalidation_0-error:0.06545\tvalidation_0-logloss:0.23986\tvalidation_1-error:0.16129\tvalidation_1-logloss:0.36972\n",
            "[20]\tvalidation_0-error:0.05091\tvalidation_0-logloss:0.23403\tvalidation_1-error:0.16129\tvalidation_1-logloss:0.36283\n",
            "[21]\tvalidation_0-error:0.05455\tvalidation_0-logloss:0.22609\tvalidation_1-error:0.16129\tvalidation_1-logloss:0.35755\n",
            "[22]\tvalidation_0-error:0.05818\tvalidation_0-logloss:0.21755\tvalidation_1-error:0.19355\tvalidation_1-logloss:0.35068\n",
            "[23]\tvalidation_0-error:0.05091\tvalidation_0-logloss:0.21052\tvalidation_1-error:0.16129\tvalidation_1-logloss:0.34074\n",
            "[24]\tvalidation_0-error:0.04727\tvalidation_0-logloss:0.20283\tvalidation_1-error:0.12903\tvalidation_1-logloss:0.33481\n",
            "[25]\tvalidation_0-error:0.04364\tvalidation_0-logloss:0.19712\tvalidation_1-error:0.12903\tvalidation_1-logloss:0.32824\n",
            "[26]\tvalidation_0-error:0.04727\tvalidation_0-logloss:0.19110\tvalidation_1-error:0.12903\tvalidation_1-logloss:0.32327\n",
            "[27]\tvalidation_0-error:0.04727\tvalidation_0-logloss:0.18523\tvalidation_1-error:0.12903\tvalidation_1-logloss:0.31702\n",
            "[28]\tvalidation_0-error:0.04364\tvalidation_0-logloss:0.18141\tvalidation_1-error:0.12903\tvalidation_1-logloss:0.31200\n",
            "[29]\tvalidation_0-error:0.04364\tvalidation_0-logloss:0.17684\tvalidation_1-error:0.12903\tvalidation_1-logloss:0.30695\n",
            "[30]\tvalidation_0-error:0.04364\tvalidation_0-logloss:0.17189\tvalidation_1-error:0.12903\tvalidation_1-logloss:0.29968\n",
            "[31]\tvalidation_0-error:0.03636\tvalidation_0-logloss:0.16815\tvalidation_1-error:0.12903\tvalidation_1-logloss:0.29345\n",
            "[32]\tvalidation_0-error:0.03636\tvalidation_0-logloss:0.16321\tvalidation_1-error:0.12903\tvalidation_1-logloss:0.29139\n",
            "[33]\tvalidation_0-error:0.04000\tvalidation_0-logloss:0.16033\tvalidation_1-error:0.12903\tvalidation_1-logloss:0.29363\n",
            "[34]\tvalidation_0-error:0.03273\tvalidation_0-logloss:0.15760\tvalidation_1-error:0.12903\tvalidation_1-logloss:0.29502\n",
            "[35]\tvalidation_0-error:0.02909\tvalidation_0-logloss:0.15381\tvalidation_1-error:0.12903\tvalidation_1-logloss:0.29333\n",
            "[36]\tvalidation_0-error:0.03273\tvalidation_0-logloss:0.15091\tvalidation_1-error:0.12903\tvalidation_1-logloss:0.29194\n",
            "[37]\tvalidation_0-error:0.02909\tvalidation_0-logloss:0.14787\tvalidation_1-error:0.12903\tvalidation_1-logloss:0.28378\n",
            "[38]\tvalidation_0-error:0.02909\tvalidation_0-logloss:0.14556\tvalidation_1-error:0.12903\tvalidation_1-logloss:0.27960\n",
            "[39]\tvalidation_0-error:0.02909\tvalidation_0-logloss:0.14270\tvalidation_1-error:0.12903\tvalidation_1-logloss:0.27994\n",
            "[40]\tvalidation_0-error:0.02909\tvalidation_0-logloss:0.14010\tvalidation_1-error:0.12903\tvalidation_1-logloss:0.27342\n",
            "[41]\tvalidation_0-error:0.02909\tvalidation_0-logloss:0.13782\tvalidation_1-error:0.12903\tvalidation_1-logloss:0.26785\n",
            "[42]\tvalidation_0-error:0.02909\tvalidation_0-logloss:0.13642\tvalidation_1-error:0.12903\tvalidation_1-logloss:0.26877\n",
            "[43]\tvalidation_0-error:0.02909\tvalidation_0-logloss:0.13409\tvalidation_1-error:0.12903\tvalidation_1-logloss:0.26514\n",
            "[44]\tvalidation_0-error:0.02545\tvalidation_0-logloss:0.13172\tvalidation_1-error:0.12903\tvalidation_1-logloss:0.25918\n",
            "[45]\tvalidation_0-error:0.02182\tvalidation_0-logloss:0.13028\tvalidation_1-error:0.12903\tvalidation_1-logloss:0.25702\n",
            "[46]\tvalidation_0-error:0.02545\tvalidation_0-logloss:0.12822\tvalidation_1-error:0.12903\tvalidation_1-logloss:0.25680\n",
            "[47]\tvalidation_0-error:0.02182\tvalidation_0-logloss:0.12647\tvalidation_1-error:0.12903\tvalidation_1-logloss:0.25468\n",
            "[48]\tvalidation_0-error:0.02909\tvalidation_0-logloss:0.12520\tvalidation_1-error:0.12903\tvalidation_1-logloss:0.25618\n",
            "[49]\tvalidation_0-error:0.02182\tvalidation_0-logloss:0.12369\tvalidation_1-error:0.12903\tvalidation_1-logloss:0.25155\n",
            "[50]\tvalidation_0-error:0.01818\tvalidation_0-logloss:0.12152\tvalidation_1-error:0.12903\tvalidation_1-logloss:0.24798\n",
            "[51]\tvalidation_0-error:0.01818\tvalidation_0-logloss:0.12042\tvalidation_1-error:0.12903\tvalidation_1-logloss:0.24572\n",
            "[52]\tvalidation_0-error:0.02182\tvalidation_0-logloss:0.11867\tvalidation_1-error:0.12903\tvalidation_1-logloss:0.24142\n",
            "[53]\tvalidation_0-error:0.02545\tvalidation_0-logloss:0.11706\tvalidation_1-error:0.12903\tvalidation_1-logloss:0.24160\n",
            "[54]\tvalidation_0-error:0.02545\tvalidation_0-logloss:0.11559\tvalidation_1-error:0.12903\tvalidation_1-logloss:0.24239\n",
            "[55]\tvalidation_0-error:0.02545\tvalidation_0-logloss:0.11451\tvalidation_1-error:0.12903\tvalidation_1-logloss:0.24140\n",
            "[56]\tvalidation_0-error:0.02545\tvalidation_0-logloss:0.11357\tvalidation_1-error:0.12903\tvalidation_1-logloss:0.24278\n",
            "[57]\tvalidation_0-error:0.02545\tvalidation_0-logloss:0.11213\tvalidation_1-error:0.09677\tvalidation_1-logloss:0.24130\n",
            "[58]\tvalidation_0-error:0.02545\tvalidation_0-logloss:0.11077\tvalidation_1-error:0.09677\tvalidation_1-logloss:0.23772\n",
            "[59]\tvalidation_0-error:0.02545\tvalidation_0-logloss:0.10933\tvalidation_1-error:0.09677\tvalidation_1-logloss:0.23414\n",
            "[60]\tvalidation_0-error:0.02545\tvalidation_0-logloss:0.10822\tvalidation_1-error:0.06452\tvalidation_1-logloss:0.23464\n",
            "[61]\tvalidation_0-error:0.02545\tvalidation_0-logloss:0.10712\tvalidation_1-error:0.06452\tvalidation_1-logloss:0.23152\n",
            "[62]\tvalidation_0-error:0.02545\tvalidation_0-logloss:0.10608\tvalidation_1-error:0.06452\tvalidation_1-logloss:0.23002\n",
            "[63]\tvalidation_0-error:0.02545\tvalidation_0-logloss:0.10510\tvalidation_1-error:0.06452\tvalidation_1-logloss:0.22924\n",
            "[64]\tvalidation_0-error:0.02545\tvalidation_0-logloss:0.10397\tvalidation_1-error:0.06452\tvalidation_1-logloss:0.22800\n",
            "[65]\tvalidation_0-error:0.02182\tvalidation_0-logloss:0.10273\tvalidation_1-error:0.09677\tvalidation_1-logloss:0.22708\n",
            "[66]\tvalidation_0-error:0.02182\tvalidation_0-logloss:0.10161\tvalidation_1-error:0.09677\tvalidation_1-logloss:0.22693\n",
            "[67]\tvalidation_0-error:0.02545\tvalidation_0-logloss:0.10086\tvalidation_1-error:0.09677\tvalidation_1-logloss:0.22363\n",
            "[68]\tvalidation_0-error:0.02182\tvalidation_0-logloss:0.10016\tvalidation_1-error:0.09677\tvalidation_1-logloss:0.22288\n",
            "[69]\tvalidation_0-error:0.01818\tvalidation_0-logloss:0.09890\tvalidation_1-error:0.09677\tvalidation_1-logloss:0.22196\n",
            "[70]\tvalidation_0-error:0.01818\tvalidation_0-logloss:0.09787\tvalidation_1-error:0.09677\tvalidation_1-logloss:0.22187\n"
          ]
        },
        {
          "name": "stdout",
          "output_type": "stream",
          "text": [
            "[71]\tvalidation_0-error:0.01818\tvalidation_0-logloss:0.09703\tvalidation_1-error:0.09677\tvalidation_1-logloss:0.22033\n",
            "[72]\tvalidation_0-error:0.01455\tvalidation_0-logloss:0.09607\tvalidation_1-error:0.09677\tvalidation_1-logloss:0.22085\n",
            "[73]\tvalidation_0-error:0.01455\tvalidation_0-logloss:0.09542\tvalidation_1-error:0.09677\tvalidation_1-logloss:0.21858\n",
            "[74]\tvalidation_0-error:0.01455\tvalidation_0-logloss:0.09462\tvalidation_1-error:0.09677\tvalidation_1-logloss:0.21853\n",
            "[75]\tvalidation_0-error:0.01455\tvalidation_0-logloss:0.09419\tvalidation_1-error:0.09677\tvalidation_1-logloss:0.21885\n",
            "[76]\tvalidation_0-error:0.01455\tvalidation_0-logloss:0.09361\tvalidation_1-error:0.09677\tvalidation_1-logloss:0.22028\n",
            "[77]\tvalidation_0-error:0.01455\tvalidation_0-logloss:0.09292\tvalidation_1-error:0.09677\tvalidation_1-logloss:0.21975\n",
            "[78]\tvalidation_0-error:0.01455\tvalidation_0-logloss:0.09188\tvalidation_1-error:0.09677\tvalidation_1-logloss:0.22108\n",
            "[79]\tvalidation_0-error:0.01455\tvalidation_0-logloss:0.09123\tvalidation_1-error:0.09677\tvalidation_1-logloss:0.22129\n",
            "[80]\tvalidation_0-error:0.01455\tvalidation_0-logloss:0.09050\tvalidation_1-error:0.09677\tvalidation_1-logloss:0.22190\n",
            "[81]\tvalidation_0-error:0.01455\tvalidation_0-logloss:0.08982\tvalidation_1-error:0.09677\tvalidation_1-logloss:0.22301\n",
            "[82]\tvalidation_0-error:0.01455\tvalidation_0-logloss:0.08913\tvalidation_1-error:0.09677\tvalidation_1-logloss:0.22500\n",
            "[83]\tvalidation_0-error:0.01091\tvalidation_0-logloss:0.08842\tvalidation_1-error:0.09677\tvalidation_1-logloss:0.22531\n",
            "[84]\tvalidation_0-error:0.01091\tvalidation_0-logloss:0.08786\tvalidation_1-error:0.09677\tvalidation_1-logloss:0.22341\n"
          ]
        },
        {
          "data": {
            "text/plain": [
              "XGBClassifier(base_score=0.5, booster='gbtree', colsample_bylevel=1,\n",
              "              colsample_bynode=1, colsample_bytree=1, enable_categorical=False,\n",
              "              gamma=0, gpu_id=-1, importance_type=None,\n",
              "              interaction_constraints='', learning_rate=0.1, max_delta_step=0,\n",
              "              max_depth=4, min_child_weight=1, missing=nan,\n",
              "              monotone_constraints='()', n_estimators=200, n_jobs=8,\n",
              "              num_parallel_tree=1, predictor='auto', random_state=0,\n",
              "              reg_alpha=0, reg_lambda=1, scale_pos_weight=1, subsample=0.9,\n",
              "              tree_method='exact', validate_parameters=1, verbosity=None)"
            ]
          },
          "execution_count": 10,
          "metadata": {},
          "output_type": "execute_result"
        }
      ],
      "source": [
        "model = xgb.XGBClassifier(max_depth=4,\n",
        "                        subsample=0.9,\n",
        "                        objective='binary:logistic',\n",
        "                        n_estimators=200,\n",
        "                        learning_rate = 0.1)\n",
        "# train_x, test_x, train_Y, test_Y = train_test_split(X, Y, test_size=0.1, stratify=Y, random_state=0)\n",
        "eval_set = [(train_x, train_Y), (test_x, test_Y)]\n",
        "\n",
        "model.fit(train_x, train_Y.values.ravel(), early_stopping_rounds=10, eval_metric=[\"error\", \"logloss\"], eval_set=eval_set, verbose=True)"
      ]
    },
    {
      "cell_type": "markdown",
      "metadata": {
        "id": "VgBHftHQxyo1"
      },
      "source": [
        "###### To evaluate training accuracy, I execute model.predict function and passing X testing data frame. The function returns an array of predictions per each row for X set. Then I match each row from prediction array with actual decision feature value. This is how accuracy is calculated:"
      ]
    },
    {
      "cell_type": "code",
      "execution_count": null,
      "metadata": {
        "id": "FxJC7-9lxyo1"
      },
      "outputs": [],
      "source": [
        "# make predictions for test data\n",
        "y_pred = model.predict(test_x)\n",
        "predictions = [round(value) for value in y_pred]"
      ]
    },
    {
      "cell_type": "code",
      "execution_count": null,
      "metadata": {
        "id": "H9jHccT6xyo1",
        "outputId": "ea781391-4293-4946-e678-8e5978319b4c"
      },
      "outputs": [
        {
          "name": "stdout",
          "output_type": "stream",
          "text": [
            "Accuracy: 90.32%\n"
          ]
        }
      ],
      "source": [
        "# evaluate predictions\n",
        "accuracy = accuracy_score(test_Y, predictions)\n",
        "print(\"Accuracy: %.2f%%\" % (accuracy * 100.0))"
      ]
    },
    {
      "cell_type": "code",
      "execution_count": null,
      "metadata": {
        "id": "lUnzEKNvxyo1",
        "outputId": "7d520d7d-214c-41f1-e190-fed343d5d120"
      },
      "outputs": [
        {
          "name": "stdout",
          "output_type": "stream",
          "text": [
            "Fitting 10 folds for each of 96 candidates, totalling 960 fits\n",
            "[00:18:47] WARNING: C:/Users/Administrator/workspace/xgboost-win64_release_1.5.1/src/learner.cc:1115: Starting in XGBoost 1.3.0, the default evaluation metric used with the objective 'binary:logistic' was changed from 'error' to 'logloss'. Explicitly set eval_metric if you'd like to restore the old behavior.\n",
            "Best parameters: {'learning_rate': 0.1, 'max_depth': 3, 'n_estimators': 100}\n"
          ]
        }
      ],
      "source": [
        "from sklearn.model_selection import GridSearchCV\n",
        "parameters = {\n",
        "    'max_depth': range (2, 10, 1),\n",
        "    'n_estimators': range(60, 220, 40),\n",
        "    'learning_rate': [0.1, 0.01, 0.05]\n",
        "}\n",
        "\n",
        "#Initialise XGBoost Model\n",
        "xgb1 = xgb.XGBClassifier(subsample=0.9, objective='binary:logistic')\n",
        "\n",
        "# Define grid search\n",
        "grid_search= GridSearchCV(\n",
        "    estimator=xgb1,\n",
        "    param_grid=parameters,\n",
        "    scoring = 'roc_auc',\n",
        "    n_jobs = 10,\n",
        "    cv = 10,\n",
        "    verbose=True\n",
        ")\n",
        "\n",
        "# Fit grid search\n",
        "model1 = grid_search.fit(train_x,train_Y)\n",
        "print(\"Best parameters:\", model1.best_params_)"
      ]
    },
    {
      "cell_type": "code",
      "execution_count": null,
      "metadata": {
        "id": "mleXwyjvxyo1",
        "outputId": "d4b9559e-e7a5-44a8-c13a-8af2339c8809"
      },
      "outputs": [
        {
          "name": "stdout",
          "output_type": "stream",
          "text": [
            "Best AUC Score: 0.9767094017094017\n",
            "Accuracy: 0.9032258064516129\n",
            "[[15  2]\n",
            " [ 1 13]]\n"
          ]
        }
      ],
      "source": [
        "from sklearn.metrics import confusion_matrix\n",
        "predict1 = model1.predict(test_x)\n",
        "print('Best AUC Score: {}'.format(model1.best_score_))\n",
        "print('Accuracy: {}'.format(accuracy_score(test_Y, predict1)))\n",
        "print(confusion_matrix(test_Y,predict1))"
      ]
    },
    {
      "cell_type": "code",
      "execution_count": null,
      "metadata": {
        "id": "MZSh1uthxyo1",
        "outputId": "4950278b-8b40-4493-80c7-0de011b14198"
      },
      "outputs": [
        {
          "name": "stdout",
          "output_type": "stream",
          "text": [
            "[1.5100325e-02 8.8246174e-02 9.2017984e-01 1.3721527e-02 2.2550551e-03\n",
            " 1.5940575e-01 8.5871282e-04 9.9002153e-01 6.1288571e-01 1.8745381e-02\n",
            " 3.6624399e-01 7.4888176e-01 6.1174178e-01 9.8159790e-01 9.5425004e-01\n",
            " 2.2163162e-01 2.2163318e-02 1.1720129e-02 9.1634393e-01 9.0719599e-01\n",
            " 9.9571818e-01 1.5629703e-02 9.7032243e-01 3.9174223e-01 9.5023459e-01\n",
            " 9.5023459e-01 2.1503465e-02 6.1680382e-01 9.5023459e-01 9.1174664e-03\n",
            " 1.1916337e-02]\n"
          ]
        }
      ],
      "source": [
        "test_probs = model1.predict_proba(test_x)[:,1]\n",
        "print(test_probs)"
      ]
    },
    {
      "cell_type": "markdown",
      "metadata": {
        "id": "ezxCwBSpxyo1"
      },
      "source": [
        "#####  Executed model.predict with test data complete. But how to execute model.predict with new data? Here is the example below, which feeds model.predict with Pandas data frame constructed from static data. Payment is by one day late (payment after 4 days since invoice vs. 3 days of expected payment), but since the amount is less than 80 — such payment delay is not considered risky. XGBoost model.predict returns decision, but often it might be useful to call model.predict_proba instead, which returns probabilities for the decision:"
      ]
    },
    {
      "cell_type": "code",
      "execution_count": null,
      "metadata": {
        "id": "J-y_sTyZxyo1",
        "outputId": "9bfb8024-6897-41e0-ff5c-33c78904da2e"
      },
      "outputs": [
        {
          "name": "stdout",
          "output_type": "stream",
          "text": [
            "Prediction:  [0]\n",
            "Probabilities:  [[0.81825465 0.18174534]]\n"
          ]
        }
      ],
      "source": [
        "# Predict on new observations\n",
        "headers = list(X)\n",
        "input_variables = pd.DataFrame([[3,4,50.75,1,0,0,0,0,0,0,0,0,0,0,0,0,0,0,0,0,0,0,0,0,0,0,0,0,0,0,0,0,0,0,0,0,0,0,0,0,0,0,0]],\n",
        "                                columns=headers,\n",
        "                                dtype=float,\n",
        "                                index=['input'])\n",
        "\n",
        "# Get the model's prediction\n",
        "prediction = model1.predict(input_variables)\n",
        "print(\"Prediction: \", prediction)\n",
        "prediction_proba = model1.predict_proba(input_variables)\n",
        "print(\"Probabilities: \", prediction_proba)"
      ]
    },
    {
      "cell_type": "code",
      "execution_count": null,
      "metadata": {
        "id": "M5SsaI5dxyo2"
      },
      "outputs": [],
      "source": []
    }
  ],
  "metadata": {
    "kernelspec": {
      "display_name": "Python 3",
      "language": "python",
      "name": "python3"
    },
    "language_info": {
      "codemirror_mode": {
        "name": "ipython",
        "version": 3
      },
      "file_extension": ".py",
      "mimetype": "text/x-python",
      "name": "python",
      "nbconvert_exporter": "python",
      "pygments_lexer": "ipython3",
      "version": "3.7.4"
    },
    "colab": {
      "provenance": [],
      "include_colab_link": true
    }
  },
  "nbformat": 4,
  "nbformat_minor": 0
}